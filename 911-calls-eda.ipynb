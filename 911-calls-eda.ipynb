{
 "cells": [
  {
   "cell_type": "markdown",
   "metadata": {
    "papermill": {
     "duration": 0.039583,
     "end_time": "2020-11-27T00:17:45.282281",
     "exception": false,
     "start_time": "2020-11-27T00:17:45.242698",
     "status": "completed"
    },
    "tags": []
   },
   "source": [
    "## Data and Setup"
   ]
  },
  {
   "cell_type": "code",
   "execution_count": 1,
   "metadata": {
    "_cell_guid": "b1076dfc-b9ad-4769-8c92-a6c4dae69d19",
    "_uuid": "8f2839f25d086af736a60e9eeb907d3b93b6e0e5",
    "execution": {
     "iopub.execute_input": "2020-11-27T00:17:45.373916Z",
     "iopub.status.busy": "2020-11-27T00:17:45.370939Z",
     "iopub.status.idle": "2020-11-27T00:17:46.725388Z",
     "shell.execute_reply": "2020-11-27T00:17:46.723617Z"
    },
    "papermill": {
     "duration": 1.401814,
     "end_time": "2020-11-27T00:17:46.725634",
     "exception": false,
     "start_time": "2020-11-27T00:17:45.323820",
     "status": "completed"
    },
    "tags": []
   },
   "outputs": [
    {
     "name": "stdout",
     "output_type": "stream",
     "text": [
      "/kaggle/input/montcoalert/911.csv\n"
     ]
    }
   ],
   "source": [
    "# This Python 3 environment comes with many helpful analytics libraries installed\n",
    "# It is defined by the kaggle/python Docker image: https://github.com/kaggle/docker-python\n",
    "# For example, here's several helpful packages to load\n",
    "\n",
    "import numpy as np # linear algebra\n",
    "import pandas as pd # data processing, CSV file I/O (e.g. pd.read_csv)\n",
    "import matplotlib.pyplot as plt \n",
    "import seaborn as sns\n",
    "sns.set_style('whitegrid')\n",
    "\n",
    "%matplotlib inline\n",
    "\n",
    "# Input data files are available in the read-only \"../input/\" directory\n",
    "# For example, running this (by clicking run or pressing Shift+Enter) will list all files under the input directory\n",
    "\n",
    "import os\n",
    "for dirname, _, filenames in os.walk('/kaggle/input'):\n",
    "    for filename in filenames:\n",
    "        print(os.path.join(dirname, filename))\n",
    "\n",
    "# You can write up to 20GB to the current directory (/kaggle/working/) that gets preserved as output when you create a version using \"Save & Run All\" \n",
    "# You can also write temporary files to /kaggle/temp/, but they won't be saved outside of the current session"
   ]
  },
  {
   "cell_type": "code",
   "execution_count": 2,
   "metadata": {
    "_cell_guid": "79c7e3d0-c299-4dcb-8224-4455121ee9b0",
    "_uuid": "d629ff2d2480ee46fbb7e2d37f6b5fab8052498a",
    "execution": {
     "iopub.execute_input": "2020-11-27T00:17:46.809541Z",
     "iopub.status.busy": "2020-11-27T00:17:46.808701Z",
     "iopub.status.idle": "2020-11-27T00:17:50.552325Z",
     "shell.execute_reply": "2020-11-27T00:17:50.551389Z"
    },
    "papermill": {
     "duration": 3.788549,
     "end_time": "2020-11-27T00:17:50.552503",
     "exception": false,
     "start_time": "2020-11-27T00:17:46.763954",
     "status": "completed"
    },
    "tags": []
   },
   "outputs": [],
   "source": [
    "df = pd.read_csv('../input/montcoalert/911.csv') "
   ]
  },
  {
   "cell_type": "markdown",
   "metadata": {
    "papermill": {
     "duration": 0.035721,
     "end_time": "2020-11-27T00:17:50.626631",
     "exception": false,
     "start_time": "2020-11-27T00:17:50.590910",
     "status": "completed"
    },
    "tags": []
   },
   "source": [
    "## Basic Questions"
   ]
  },
  {
   "cell_type": "markdown",
   "metadata": {
    "papermill": {
     "duration": 0.036434,
     "end_time": "2020-11-27T00:17:50.698693",
     "exception": false,
     "start_time": "2020-11-27T00:17:50.662259",
     "status": "completed"
    },
    "tags": []
   },
   "source": [
    ">What are the top 5 zipcodes for 911 calls?"
   ]
  },
  {
   "cell_type": "code",
   "execution_count": 3,
   "metadata": {
    "execution": {
     "iopub.execute_input": "2020-11-27T00:17:50.787792Z",
     "iopub.status.busy": "2020-11-27T00:17:50.784924Z",
     "iopub.status.idle": "2020-11-27T00:17:50.807795Z",
     "shell.execute_reply": "2020-11-27T00:17:50.806904Z"
    },
    "papermill": {
     "duration": 0.07229,
     "end_time": "2020-11-27T00:17:50.807936",
     "exception": false,
     "start_time": "2020-11-27T00:17:50.735646",
     "status": "completed"
    },
    "tags": []
   },
   "outputs": [
    {
     "data": {
      "text/plain": [
       "19401.0    45606\n",
       "19464.0    43910\n",
       "19403.0    34888\n",
       "19446.0    32270\n",
       "19406.0    22464\n",
       "Name: zip, dtype: int64"
      ]
     },
     "execution_count": 3,
     "metadata": {},
     "output_type": "execute_result"
    }
   ],
   "source": [
    "df['zip'].value_counts().head(5)"
   ]
  },
  {
   "cell_type": "markdown",
   "metadata": {
    "papermill": {
     "duration": 0.037457,
     "end_time": "2020-11-27T00:17:50.881874",
     "exception": false,
     "start_time": "2020-11-27T00:17:50.844417",
     "status": "completed"
    },
    "tags": []
   },
   "source": [
    "> What are the top 5 townships (twp) for 911 calls?"
   ]
  },
  {
   "cell_type": "code",
   "execution_count": 4,
   "metadata": {
    "execution": {
     "iopub.execute_input": "2020-11-27T00:17:51.073208Z",
     "iopub.status.busy": "2020-11-27T00:17:51.072143Z",
     "iopub.status.idle": "2020-11-27T00:17:51.156421Z",
     "shell.execute_reply": "2020-11-27T00:17:51.155558Z"
    },
    "papermill": {
     "duration": 0.23818,
     "end_time": "2020-11-27T00:17:51.156564",
     "exception": false,
     "start_time": "2020-11-27T00:17:50.918384",
     "status": "completed"
    },
    "tags": []
   },
   "outputs": [
    {
     "data": {
      "text/plain": [
       "LOWER MERION    55490\n",
       "ABINGTON        39947\n",
       "NORRISTOWN      37633\n",
       "UPPER MERION    36010\n",
       "CHELTENHAM      30574\n",
       "Name: twp, dtype: int64"
      ]
     },
     "execution_count": 4,
     "metadata": {},
     "output_type": "execute_result"
    }
   ],
   "source": [
    "df['twp'].value_counts().head(5)"
   ]
  },
  {
   "cell_type": "markdown",
   "metadata": {
    "papermill": {
     "duration": 0.039067,
     "end_time": "2020-11-27T00:17:51.234557",
     "exception": false,
     "start_time": "2020-11-27T00:17:51.195490",
     "status": "completed"
    },
    "tags": []
   },
   "source": [
    "> Take a look at the 'title' column, how many unique title codes are there?"
   ]
  },
  {
   "cell_type": "code",
   "execution_count": 5,
   "metadata": {
    "execution": {
     "iopub.execute_input": "2020-11-27T00:17:51.371873Z",
     "iopub.status.busy": "2020-11-27T00:17:51.331383Z",
     "iopub.status.idle": "2020-11-27T00:17:51.407806Z",
     "shell.execute_reply": "2020-11-27T00:17:51.406962Z"
    },
    "papermill": {
     "duration": 0.134726,
     "end_time": "2020-11-27T00:17:51.407946",
     "exception": false,
     "start_time": "2020-11-27T00:17:51.273220",
     "status": "completed"
    },
    "tags": []
   },
   "outputs": [
    {
     "data": {
      "text/plain": [
       "148"
      ]
     },
     "execution_count": 5,
     "metadata": {},
     "output_type": "execute_result"
    }
   ],
   "source": [
    "df['title'].nunique()"
   ]
  },
  {
   "cell_type": "markdown",
   "metadata": {
    "papermill": {
     "duration": 0.037265,
     "end_time": "2020-11-27T00:17:51.483250",
     "exception": false,
     "start_time": "2020-11-27T00:17:51.445985",
     "status": "completed"
    },
    "tags": []
   },
   "source": [
    "## Creating new features"
   ]
  },
  {
   "cell_type": "markdown",
   "metadata": {
    "papermill": {
     "duration": 0.039317,
     "end_time": "2020-11-27T00:17:51.561566",
     "exception": false,
     "start_time": "2020-11-27T00:17:51.522249",
     "status": "completed"
    },
    "tags": []
   },
   "source": [
    ">In the titles column there are \"Reasons/Departments\" specified before the title code. These are EMS, Fire, and Traffic. Use .apply() with a custom lambda expression to create a new column called \"Reason\" that contains this string value."
   ]
  },
  {
   "cell_type": "markdown",
   "metadata": {
    "papermill": {
     "duration": 0.044198,
     "end_time": "2020-11-27T00:17:51.646212",
     "exception": false,
     "start_time": "2020-11-27T00:17:51.602014",
     "status": "completed"
    },
    "tags": []
   },
   "source": [
    "For example, if the title column value is EMS: BACK PAINS/INJURY , the Reason column value would be EMS."
   ]
  },
  {
   "cell_type": "code",
   "execution_count": 6,
   "metadata": {
    "execution": {
     "iopub.execute_input": "2020-11-27T00:17:51.731797Z",
     "iopub.status.busy": "2020-11-27T00:17:51.730909Z",
     "iopub.status.idle": "2020-11-27T00:17:52.199771Z",
     "shell.execute_reply": "2020-11-27T00:17:52.199088Z"
    },
    "papermill": {
     "duration": 0.514041,
     "end_time": "2020-11-27T00:17:52.199925",
     "exception": false,
     "start_time": "2020-11-27T00:17:51.685884",
     "status": "completed"
    },
    "tags": []
   },
   "outputs": [],
   "source": [
    "df['Reason'] = df['title'].apply(lambda title: title.split(':')[0])"
   ]
  },
  {
   "cell_type": "markdown",
   "metadata": {
    "papermill": {
     "duration": 0.039256,
     "end_time": "2020-11-27T00:17:52.280990",
     "exception": false,
     "start_time": "2020-11-27T00:17:52.241734",
     "status": "completed"
    },
    "tags": []
   },
   "source": [
    "What is the most common Reason for a 911 call based off of this new column?"
   ]
  },
  {
   "cell_type": "code",
   "execution_count": 7,
   "metadata": {
    "execution": {
     "iopub.execute_input": "2020-11-27T00:17:52.581185Z",
     "iopub.status.busy": "2020-11-27T00:17:52.580264Z",
     "iopub.status.idle": "2020-11-27T00:17:52.590327Z",
     "shell.execute_reply": "2020-11-27T00:17:52.591120Z"
    },
    "papermill": {
     "duration": 0.268218,
     "end_time": "2020-11-27T00:17:52.591308",
     "exception": false,
     "start_time": "2020-11-27T00:17:52.323090",
     "status": "completed"
    },
    "tags": []
   },
   "outputs": [
    {
     "data": {
      "text/plain": [
       "EMS        332692\n",
       "Traffic    230208\n",
       "Fire       100622\n",
       "Name: Reason, dtype: int64"
      ]
     },
     "execution_count": 7,
     "metadata": {},
     "output_type": "execute_result"
    }
   ],
   "source": [
    "df['Reason'].value_counts()"
   ]
  },
  {
   "cell_type": "markdown",
   "metadata": {
    "papermill": {
     "duration": 0.040981,
     "end_time": "2020-11-27T00:17:52.674079",
     "exception": false,
     "start_time": "2020-11-27T00:17:52.633098",
     "status": "completed"
    },
    "tags": []
   },
   "source": [
    "Now use seaborn to create a countplot of 911 calls by Reason."
   ]
  },
  {
   "cell_type": "code",
   "execution_count": 8,
   "metadata": {
    "execution": {
     "iopub.execute_input": "2020-11-27T00:17:52.806964Z",
     "iopub.status.busy": "2020-11-27T00:17:52.806022Z",
     "iopub.status.idle": "2020-11-27T00:17:53.348318Z",
     "shell.execute_reply": "2020-11-27T00:17:53.348985Z"
    },
    "papermill": {
     "duration": 0.635142,
     "end_time": "2020-11-27T00:17:53.349152",
     "exception": false,
     "start_time": "2020-11-27T00:17:52.714010",
     "status": "completed"
    },
    "tags": []
   },
   "outputs": [
    {
     "data": {
      "text/plain": [
       "<matplotlib.axes._subplots.AxesSubplot at 0x7f8f3c8a7d90>"
      ]
     },
     "execution_count": 8,
     "metadata": {},
     "output_type": "execute_result"
    },
    {
     "data": {
      "image/png": "[encoded data removed]",
      "text/plain": [
       "<Figure size 432x288 with 1 Axes>"
      ]
     },
     "metadata": {
      "needs_background": "light"
     },
     "output_type": "display_data"
    }
   ],
   "source": [
    "sns.countplot(x='Reason',data=df,palette='viridis')"
   ]
  },
  {
   "cell_type": "markdown",
   "metadata": {
    "papermill": {
     "duration": 0.038768,
     "end_time": "2020-11-27T00:17:53.427031",
     "exception": false,
     "start_time": "2020-11-27T00:17:53.388263",
     "status": "completed"
    },
    "tags": []
   },
   "source": [
    "___\n",
    "Now let us begin to focus on time information. What is the data type of the objects in the timeStamp column?\n"
   ]
  },
  {
   "cell_type": "code",
   "execution_count": 9,
   "metadata": {
    "execution": {
     "iopub.execute_input": "2020-11-27T00:17:53.512486Z",
     "iopub.status.busy": "2020-11-27T00:17:53.511294Z",
     "iopub.status.idle": "2020-11-27T00:17:53.516227Z",
     "shell.execute_reply": "2020-11-27T00:17:53.515448Z"
    },
    "papermill": {
     "duration": 0.05036,
     "end_time": "2020-11-27T00:17:53.516361",
     "exception": false,
     "start_time": "2020-11-27T00:17:53.466001",
     "status": "completed"
    },
    "tags": []
   },
   "outputs": [
    {
     "data": {
      "text/plain": [
       "str"
      ]
     },
     "execution_count": 9,
     "metadata": {},
     "output_type": "execute_result"
    }
   ],
   "source": [
    "type(df['timeStamp'].iloc[0])"
   ]
  },
  {
   "cell_type": "markdown",
   "metadata": {
    "papermill": {
     "duration": 0.040914,
     "end_time": "2020-11-27T00:17:53.597078",
     "exception": false,
     "start_time": "2020-11-27T00:17:53.556164",
     "status": "completed"
    },
    "tags": []
   },
   "source": [
    "> You should have seen that these timestamps are still strings. Use [pd.to_datetime](http://pandas.pydata.org/pandas-docs/stable/generated/pandas.to_datetime.html) to convert the column from strings to DateTime objects."
   ]
  },
  {
   "cell_type": "code",
   "execution_count": 10,
   "metadata": {
    "execution": {
     "iopub.execute_input": "2020-11-27T00:17:53.930137Z",
     "iopub.status.busy": "2020-11-27T00:17:53.929299Z",
     "iopub.status.idle": "2020-11-27T00:17:54.041190Z",
     "shell.execute_reply": "2020-11-27T00:17:54.040493Z"
    },
    "papermill": {
     "duration": 0.403649,
     "end_time": "2020-11-27T00:17:54.041351",
     "exception": false,
     "start_time": "2020-11-27T00:17:53.637702",
     "status": "completed"
    },
    "tags": []
   },
   "outputs": [],
   "source": [
    "df['timeStamp'] = pd.to_datetime(df['timeStamp'])"
   ]
  },
  {
   "cell_type": "markdown",
   "metadata": {
    "papermill": {
     "duration": 0.041113,
     "end_time": "2020-11-27T00:17:54.124104",
     "exception": false,
     "start_time": "2020-11-27T00:17:54.082991",
     "status": "completed"
    },
    "tags": []
   },
   "source": [
    "You can now grab specific attributes from a Datetime object by calling them. For example:\n",
    "> * time = df['timeStamp'].iloc[0]\n",
    "> * time.hour"
   ]
  },
  {
   "cell_type": "markdown",
   "metadata": {
    "papermill": {
     "duration": 0.039818,
     "end_time": "2020-11-27T00:17:54.205179",
     "exception": false,
     "start_time": "2020-11-27T00:17:54.165361",
     "status": "completed"
    },
    "tags": []
   },
   "source": [
    "> You can use Jupyter's tab method to explore the various attributes you can call. Now that the timestamp column are actually DateTime objects, use .apply() to create 3 new columns called Hour, Month, and Day of Week. You will create these columns based off of the timeStamp column, reference the solutions if you get stuck on this step."
   ]
  },
  {
   "cell_type": "code",
   "execution_count": 11,
   "metadata": {
    "execution": {
     "iopub.execute_input": "2020-11-27T00:17:54.294125Z",
     "iopub.status.busy": "2020-11-27T00:17:54.293140Z",
     "iopub.status.idle": "2020-11-27T00:18:09.286880Z",
     "shell.execute_reply": "2020-11-27T00:18:09.286041Z"
    },
    "papermill": {
     "duration": 15.041638,
     "end_time": "2020-11-27T00:18:09.287042",
     "exception": false,
     "start_time": "2020-11-27T00:17:54.245404",
     "status": "completed"
    },
    "tags": []
   },
   "outputs": [],
   "source": [
    "df['Hour'] = df['timeStamp'].apply(lambda time: time.hour)\n",
    "df['Month'] = df['timeStamp'].apply(lambda time: time.month)\n",
    "df['Day of Week'] = df['timeStamp'].apply(lambda time: time.dayofweek)"
   ]
  },
  {
   "cell_type": "markdown",
   "metadata": {
    "papermill": {
     "duration": 0.047978,
     "end_time": "2020-11-27T00:18:09.383005",
     "exception": false,
     "start_time": "2020-11-27T00:18:09.335027",
     "status": "completed"
    },
    "tags": []
   },
   "source": [
    "> Notice how the Day of Week is an integer 0-6. Use the .map() with this dictionary to map the actual string names to the day of the week: dmap = {0:'Mon',1:'Tue',2:'Wed',3:'Thu',4:'Fri',5:'Sat',6:'Sun'}"
   ]
  },
  {
   "cell_type": "code",
   "execution_count": 12,
   "metadata": {
    "execution": {
     "iopub.execute_input": "2020-11-27T00:18:09.476420Z",
     "iopub.status.busy": "2020-11-27T00:18:09.475572Z",
     "iopub.status.idle": "2020-11-27T00:18:09.508378Z",
     "shell.execute_reply": "2020-11-27T00:18:09.507531Z"
    },
    "papermill": {
     "duration": 0.080302,
     "end_time": "2020-11-27T00:18:09.508514",
     "exception": false,
     "start_time": "2020-11-27T00:18:09.428212",
     "status": "completed"
    },
    "tags": []
   },
   "outputs": [],
   "source": [
    "dmap = {0:'Mon',1:'Tue',2:'Wed',3:'Thu',4:'Fri',5:'Sat',6:'Sun'}\n",
    "df['Day of Week'] = df['Day of Week'].map(dmap)"
   ]
  },
  {
   "cell_type": "markdown",
   "metadata": {
    "papermill": {
     "duration": 0.041187,
     "end_time": "2020-11-27T00:18:09.590321",
     "exception": false,
     "start_time": "2020-11-27T00:18:09.549134",
     "status": "completed"
    },
    "tags": []
   },
   "source": [
    "Now use seaborn to create a countplot of the Day of Week column with the hue based off of the Reason column."
   ]
  },
  {
   "cell_type": "code",
   "execution_count": 13,
   "metadata": {
    "execution": {
     "iopub.execute_input": "2020-11-27T00:18:09.719096Z",
     "iopub.status.busy": "2020-11-27T00:18:09.718292Z",
     "iopub.status.idle": "2020-11-27T00:18:10.782977Z",
     "shell.execute_reply": "2020-11-27T00:18:10.782159Z"
    },
    "papermill": {
     "duration": 1.151596,
     "end_time": "2020-11-27T00:18:10.783120",
     "exception": false,
     "start_time": "2020-11-27T00:18:09.631524",
     "status": "completed"
    },
    "tags": []
   },
   "outputs": [
    {
     "data": {
      "text/plain": [
       "<matplotlib.axes._subplots.AxesSubplot at 0x7f8f44eb2fd0>"
      ]
     },
     "execution_count": 13,
     "metadata": {},
     "output_type": "execute_result"
    },
    {
     "data": {
      "image/png": "[encoded data removed]",
      "text/plain": [
       "<Figure size 432x288 with 1 Axes>"
      ]
     },
     "metadata": {
      "needs_background": "light"
     },
     "output_type": "display_data"
    }
   ],
   "source": [
    "sns.countplot(x='Day of Week',data=df,hue='Reason',palette='viridis')"
   ]
  },
  {
   "cell_type": "code",
   "execution_count": 14,
   "metadata": {
    "execution": {
     "iopub.execute_input": "2020-11-27T00:18:10.885731Z",
     "iopub.status.busy": "2020-11-27T00:18:10.884530Z",
     "iopub.status.idle": "2020-11-27T00:18:11.185408Z",
     "shell.execute_reply": "2020-11-27T00:18:11.184579Z"
    },
    "papermill": {
     "duration": 0.359221,
     "end_time": "2020-11-27T00:18:11.185541",
     "exception": false,
     "start_time": "2020-11-27T00:18:10.826320",
     "status": "completed"
    },
    "tags": []
   },
   "outputs": [
    {
     "data": {
      "text/plain": [
       "<matplotlib.legend.Legend at 0x7f8f40b2c710>"
      ]
     },
     "execution_count": 14,
     "metadata": {},
     "output_type": "execute_result"
    },
    {
     "data": {
      "image/png": "[encoded data removed]",
      "text/plain": [
       "<Figure size 432x288 with 1 Axes>"
      ]
     },
     "metadata": {
      "needs_background": "light"
     },
     "output_type": "display_data"
    }
   ],
   "source": [
    "# To relocate the legend\n",
    "plt.legend(bbox_to_anchor=(1.05, 1), loc=2, borderaxespad=0.)"
   ]
  },
  {
   "cell_type": "markdown",
   "metadata": {
    "papermill": {
     "duration": 0.043427,
     "end_time": "2020-11-27T00:18:11.273586",
     "exception": false,
     "start_time": "2020-11-27T00:18:11.230159",
     "status": "completed"
    },
    "tags": []
   },
   "source": [
    "Now do the same for Month:"
   ]
  },
  {
   "cell_type": "code",
   "execution_count": 15,
   "metadata": {
    "execution": {
     "iopub.execute_input": "2020-11-27T00:18:11.382661Z",
     "iopub.status.busy": "2020-11-27T00:18:11.381202Z",
     "iopub.status.idle": "2020-11-27T00:18:12.308400Z",
     "shell.execute_reply": "2020-11-27T00:18:12.307604Z"
    },
    "papermill": {
     "duration": 0.978891,
     "end_time": "2020-11-27T00:18:12.308550",
     "exception": false,
     "start_time": "2020-11-27T00:18:11.329659",
     "status": "completed"
    },
    "tags": []
   },
   "outputs": [
    {
     "data": {
      "text/plain": [
       "<matplotlib.axes._subplots.AxesSubplot at 0x7f8f3f78a6d0>"
      ]
     },
     "execution_count": 15,
     "metadata": {},
     "output_type": "execute_result"
    },
    {
     "data": {
      "image/png": "[encoded data removed]",
      "text/plain": [
       "<Figure size 432x288 with 1 Axes>"
      ]
     },
     "metadata": {
      "needs_background": "light"
     },
     "output_type": "display_data"
    }
   ],
   "source": [
    "sns.countplot(x='Month',data=df,hue='Reason',palette='viridis')"
   ]
  },
  {
   "cell_type": "code",
   "execution_count": 16,
   "metadata": {
    "execution": {
     "iopub.execute_input": "2020-11-27T00:18:12.415557Z",
     "iopub.status.busy": "2020-11-27T00:18:12.414708Z",
     "iopub.status.idle": "2020-11-27T00:18:12.718678Z",
     "shell.execute_reply": "2020-11-27T00:18:12.717875Z"
    },
    "papermill": {
     "duration": 0.361314,
     "end_time": "2020-11-27T00:18:12.718836",
     "exception": false,
     "start_time": "2020-11-27T00:18:12.357522",
     "status": "completed"
    },
    "tags": []
   },
   "outputs": [
    {
     "data": {
      "text/plain": [
       "<matplotlib.legend.Legend at 0x7f8f436b5550>"
      ]
     },
     "execution_count": 16,
     "metadata": {},
     "output_type": "execute_result"
    },
    {
     "data": {
      "image/png": "[encoded data removed]",
      "text/plain": [
       "<Figure size 432x288 with 1 Axes>"
      ]
     },
     "metadata": {
      "needs_background": "light"
     },
     "output_type": "display_data"
    }
   ],
   "source": [
    "# To relocate the legend\n",
    "plt.legend(bbox_to_anchor=(1.05, 1), loc=2, borderaxespad=0.)"
   ]
  },
  {
   "cell_type": "markdown",
   "metadata": {
    "papermill": {
     "duration": 0.045664,
     "end_time": "2020-11-27T00:18:12.811689",
     "exception": false,
     "start_time": "2020-11-27T00:18:12.766025",
     "status": "completed"
    },
    "tags": []
   },
   "source": [
    "Did you notice something strange about the Plot?\n",
    "> * It is missing some months! 9,10, and 11 are not there.\n"
   ]
  },
  {
   "cell_type": "markdown",
   "metadata": {
    "papermill": {
     "duration": 0.046435,
     "end_time": "2020-11-27T00:18:12.904366",
     "exception": false,
     "start_time": "2020-11-27T00:18:12.857931",
     "status": "completed"
    },
    "tags": []
   },
   "source": [
    "> You should have noticed it was missing some Months, let's see if we can maybe fill in this information by plotting the information in another way, possibly a simple line plot that fills in the missing months, in order to do this, we'll need to do some work with pandas..."
   ]
  },
  {
   "cell_type": "markdown",
   "metadata": {
    "papermill": {
     "duration": 0.046729,
     "end_time": "2020-11-27T00:18:12.997299",
     "exception": false,
     "start_time": "2020-11-27T00:18:12.950570",
     "status": "completed"
    },
    "tags": []
   },
   "source": [
    "Now create a gropuby object called byMonth, where you group the DataFrame by the month column and use the count() method for aggregation. Use the head() method on this returned DataFrame. "
   ]
  },
  {
   "cell_type": "code",
   "execution_count": 17,
   "metadata": {
    "execution": {
     "iopub.execute_input": "2020-11-27T00:18:13.099713Z",
     "iopub.status.busy": "2020-11-27T00:18:13.098900Z",
     "iopub.status.idle": "2020-11-27T00:18:13.893103Z",
     "shell.execute_reply": "2020-11-27T00:18:13.893915Z"
    },
    "papermill": {
     "duration": 0.848703,
     "end_time": "2020-11-27T00:18:13.894088",
     "exception": false,
     "start_time": "2020-11-27T00:18:13.045385",
     "status": "completed"
    },
    "tags": []
   },
   "outputs": [
    {
     "data": {
      "text/html": [
       "<div>\n",
       "<style scoped>\n",
       "    .dataframe tbody tr th:only-of-type {\n",
       "        vertical-align: middle;\n",
       "    }\n",
       "\n",
       "    .dataframe tbody tr th {\n",
       "        vertical-align: top;\n",
       "    }\n",
       "\n",
       "    .dataframe thead th {\n",
       "        text-align: right;\n",
       "    }\n",
       "</style>\n",
       "<table border=\"1\" class=\"dataframe\">\n",
       "  <thead>\n",
       "    <tr style=\"text-align: right;\">\n",
       "      <th></th>\n",
       "      <th>lat</th>\n",
       "      <th>lng</th>\n",
       "      <th>desc</th>\n",
       "      <th>zip</th>\n",
       "      <th>title</th>\n",
       "      <th>timeStamp</th>\n",
       "      <th>twp</th>\n",
       "      <th>addr</th>\n",
       "      <th>e</th>\n",
       "      <th>Reason</th>\n",
       "      <th>Hour</th>\n",
       "      <th>Day of Week</th>\n",
       "    </tr>\n",
       "    <tr>\n",
       "      <th>Month</th>\n",
       "      <th></th>\n",
       "      <th></th>\n",
       "      <th></th>\n",
       "      <th></th>\n",
       "      <th></th>\n",
       "      <th></th>\n",
       "      <th></th>\n",
       "      <th></th>\n",
       "      <th></th>\n",
       "      <th></th>\n",
       "      <th></th>\n",
       "      <th></th>\n",
       "    </tr>\n",
       "  </thead>\n",
       "  <tbody>\n",
       "    <tr>\n",
       "      <th>1</th>\n",
       "      <td>62336</td>\n",
       "      <td>62336</td>\n",
       "      <td>62336</td>\n",
       "      <td>55294</td>\n",
       "      <td>62336</td>\n",
       "      <td>62336</td>\n",
       "      <td>62312</td>\n",
       "      <td>62336</td>\n",
       "      <td>62336</td>\n",
       "      <td>62336</td>\n",
       "      <td>62336</td>\n",
       "      <td>62336</td>\n",
       "    </tr>\n",
       "    <tr>\n",
       "      <th>2</th>\n",
       "      <td>55427</td>\n",
       "      <td>55427</td>\n",
       "      <td>55427</td>\n",
       "      <td>48922</td>\n",
       "      <td>55427</td>\n",
       "      <td>55427</td>\n",
       "      <td>55405</td>\n",
       "      <td>55427</td>\n",
       "      <td>55427</td>\n",
       "      <td>55427</td>\n",
       "      <td>55427</td>\n",
       "      <td>55427</td>\n",
       "    </tr>\n",
       "    <tr>\n",
       "      <th>3</th>\n",
       "      <td>60027</td>\n",
       "      <td>60027</td>\n",
       "      <td>60027</td>\n",
       "      <td>53252</td>\n",
       "      <td>60027</td>\n",
       "      <td>60027</td>\n",
       "      <td>60001</td>\n",
       "      <td>60027</td>\n",
       "      <td>60027</td>\n",
       "      <td>60027</td>\n",
       "      <td>60027</td>\n",
       "      <td>60027</td>\n",
       "    </tr>\n",
       "    <tr>\n",
       "      <th>4</th>\n",
       "      <td>53671</td>\n",
       "      <td>53671</td>\n",
       "      <td>53671</td>\n",
       "      <td>47349</td>\n",
       "      <td>53671</td>\n",
       "      <td>53671</td>\n",
       "      <td>53655</td>\n",
       "      <td>53671</td>\n",
       "      <td>53671</td>\n",
       "      <td>53671</td>\n",
       "      <td>53671</td>\n",
       "      <td>53671</td>\n",
       "    </tr>\n",
       "    <tr>\n",
       "      <th>5</th>\n",
       "      <td>57509</td>\n",
       "      <td>57509</td>\n",
       "      <td>57509</td>\n",
       "      <td>50354</td>\n",
       "      <td>57509</td>\n",
       "      <td>57509</td>\n",
       "      <td>57474</td>\n",
       "      <td>57509</td>\n",
       "      <td>57509</td>\n",
       "      <td>57509</td>\n",
       "      <td>57509</td>\n",
       "      <td>57509</td>\n",
       "    </tr>\n",
       "  </tbody>\n",
       "</table>\n",
       "</div>"
      ],
      "text/plain": [
       "         lat    lng   desc    zip  title  timeStamp    twp   addr      e  \\\n",
       "Month                                                                      \n",
       "1      62336  62336  62336  55294  62336      62336  62312  62336  62336   \n",
       "2      55427  55427  55427  48922  55427      55427  55405  55427  55427   \n",
       "3      60027  60027  60027  53252  60027      60027  60001  60027  60027   \n",
       "4      53671  53671  53671  47349  53671      53671  53655  53671  53671   \n",
       "5      57509  57509  57509  50354  57509      57509  57474  57509  57509   \n",
       "\n",
       "       Reason   Hour  Day of Week  \n",
       "Month                              \n",
       "1       62336  62336        62336  \n",
       "2       55427  55427        55427  \n",
       "3       60027  60027        60027  \n",
       "4       53671  53671        53671  \n",
       "5       57509  57509        57509  "
      ]
     },
     "execution_count": 17,
     "metadata": {},
     "output_type": "execute_result"
    }
   ],
   "source": [
    "byMonth = df.groupby('Month').count()\n",
    "byMonth.head()"
   ]
  },
  {
   "cell_type": "code",
   "execution_count": 18,
   "metadata": {
    "execution": {
     "iopub.execute_input": "2020-11-27T00:18:13.995765Z",
     "iopub.status.busy": "2020-11-27T00:18:13.994941Z",
     "iopub.status.idle": "2020-11-27T00:18:14.378104Z",
     "shell.execute_reply": "2020-11-27T00:18:14.378661Z"
    },
    "papermill": {
     "duration": 0.436747,
     "end_time": "2020-11-27T00:18:14.378847",
     "exception": false,
     "start_time": "2020-11-27T00:18:13.942100",
     "status": "completed"
    },
    "tags": []
   },
   "outputs": [
    {
     "data": {
      "text/plain": [
       "<matplotlib.axes._subplots.AxesSubplot at 0x7f8f4405de90>"
      ]
     },
     "execution_count": 18,
     "metadata": {},
     "output_type": "execute_result"
    },
    {
     "data": {
      "image/png": "[encoded data removed]",
      "text/plain": [
       "<Figure size 432x288 with 1 Axes>"
      ]
     },
     "metadata": {
      "needs_background": "light"
     },
     "output_type": "display_data"
    }
   ],
   "source": [
    "# Could be any column\n",
    "byMonth['twp'].plot()"
   ]
  },
  {
   "cell_type": "markdown",
   "metadata": {
    "papermill": {
     "duration": 0.04897,
     "end_time": "2020-11-27T00:18:14.478125",
     "exception": false,
     "start_time": "2020-11-27T00:18:14.429155",
     "status": "completed"
    },
    "tags": []
   },
   "source": [
    "> Now see if you can use seaborn's lmplot() to create a linear fit on the number of calls per month. Keep in mind you may need to reset the index to a column."
   ]
  },
  {
   "cell_type": "code",
   "execution_count": 19,
   "metadata": {
    "execution": {
     "iopub.execute_input": "2020-11-27T00:18:14.589840Z",
     "iopub.status.busy": "2020-11-27T00:18:14.584899Z",
     "iopub.status.idle": "2020-11-27T00:18:15.293242Z",
     "shell.execute_reply": "2020-11-27T00:18:15.291792Z"
    },
    "papermill": {
     "duration": 0.76687,
     "end_time": "2020-11-27T00:18:15.293407",
     "exception": false,
     "start_time": "2020-11-27T00:18:14.526537",
     "status": "completed"
    },
    "tags": []
   },
   "outputs": [
    {
     "data": {
      "text/plain": [
       "<seaborn.axisgrid.FacetGrid at 0x7f8f4c1d08d0>"
      ]
     },
     "execution_count": 19,
     "metadata": {},
     "output_type": "execute_result"
    },
    {
     "data": {
      "image/png": "[encoded data removed]",
      "text/plain": [
       "<Figure size 360x360 with 1 Axes>"
      ]
     },
     "metadata": {
      "needs_background": "light"
     },
     "output_type": "display_data"
    }
   ],
   "source": [
    "sns.lmplot(x='Month',y='twp',data=byMonth.reset_index())"
   ]
  },
  {
   "cell_type": "markdown",
   "metadata": {
    "papermill": {
     "duration": 0.05089,
     "end_time": "2020-11-27T00:18:15.409366",
     "exception": false,
     "start_time": "2020-11-27T00:18:15.358476",
     "status": "completed"
    },
    "tags": []
   },
   "source": [
    "Create a new column called 'Date' that contains the date from the timeStamp column. You'll need to use apply along with the .date() method."
   ]
  },
  {
   "cell_type": "code",
   "execution_count": 20,
   "metadata": {
    "execution": {
     "iopub.execute_input": "2020-11-27T00:18:15.517097Z",
     "iopub.status.busy": "2020-11-27T00:18:15.516235Z",
     "iopub.status.idle": "2020-11-27T00:18:20.543350Z",
     "shell.execute_reply": "2020-11-27T00:18:20.543918Z"
    },
    "papermill": {
     "duration": 5.084295,
     "end_time": "2020-11-27T00:18:20.544093",
     "exception": false,
     "start_time": "2020-11-27T00:18:15.459798",
     "status": "completed"
    },
    "tags": []
   },
   "outputs": [],
   "source": [
    "df['Date']=df['timeStamp'].apply(lambda t: t.date())"
   ]
  },
  {
   "cell_type": "markdown",
   "metadata": {
    "papermill": {
     "duration": 0.051406,
     "end_time": "2020-11-27T00:18:20.646520",
     "exception": false,
     "start_time": "2020-11-27T00:18:20.595114",
     "status": "completed"
    },
    "tags": []
   },
   "source": [
    "Now groupby this Date column with the count() aggregate and create a plot of counts of 911 calls."
   ]
  },
  {
   "cell_type": "code",
   "execution_count": 21,
   "metadata": {
    "execution": {
     "iopub.execute_input": "2020-11-27T00:18:20.754810Z",
     "iopub.status.busy": "2020-11-27T00:18:20.753967Z",
     "iopub.status.idle": "2020-11-27T00:18:21.897016Z",
     "shell.execute_reply": "2020-11-27T00:18:21.896159Z"
    },
    "papermill": {
     "duration": 1.200071,
     "end_time": "2020-11-27T00:18:21.897166",
     "exception": false,
     "start_time": "2020-11-27T00:18:20.697095",
     "status": "completed"
    },
    "tags": []
   },
   "outputs": [
    {
     "data": {
      "image/png": "[encoded data removed]",
      "text/plain": [
       "<Figure size 432x288 with 1 Axes>"
      ]
     },
     "metadata": {
      "needs_background": "light"
     },
     "output_type": "display_data"
    }
   ],
   "source": [
    "df.groupby('Date').count()['twp'].plot()\n",
    "plt.tight_layout()"
   ]
  },
  {
   "cell_type": "markdown",
   "metadata": {
    "papermill": {
     "duration": 0.051494,
     "end_time": "2020-11-27T00:18:22.000018",
     "exception": false,
     "start_time": "2020-11-27T00:18:21.948524",
     "status": "completed"
    },
    "tags": []
   },
   "source": [
    "Now recreate this plot but create 3 separate plots with each plot representing a Reason for the 911 call"
   ]
  },
  {
   "cell_type": "code",
   "execution_count": 22,
   "metadata": {
    "execution": {
     "iopub.execute_input": "2020-11-27T00:18:22.231086Z",
     "iopub.status.busy": "2020-11-27T00:18:22.118595Z",
     "iopub.status.idle": "2020-11-27T00:18:23.765007Z",
     "shell.execute_reply": "2020-11-27T00:18:23.764232Z"
    },
    "papermill": {
     "duration": 1.708493,
     "end_time": "2020-11-27T00:18:23.765141",
     "exception": false,
     "start_time": "2020-11-27T00:18:22.056648",
     "status": "completed"
    },
    "tags": []
   },
   "outputs": [
    {
     "data": {
      "image/png": "[encoded data removed]",
      "text/plain": [
       "<Figure size 432x288 with 1 Axes>"
      ]
     },
     "metadata": {
      "needs_background": "light"
     },
     "output_type": "display_data"
    }
   ],
   "source": [
    "df[df['Reason']=='Traffic'].groupby('Date').count()['twp'].plot()\n",
    "plt.title('Traffic')\n",
    "plt.tight_layout()\n",
    "\n",
    "df[df['Reason']=='Fire'].groupby('Date').count()['twp'].plot()\n",
    "plt.title('Fire')\n",
    "plt.tight_layout()\n",
    "\n",
    "df[df['Reason']=='EMS'].groupby('Date').count()['twp'].plot()\n",
    "plt.title('EMS')\n",
    "plt.tight_layout()"
   ]
  },
  {
   "cell_type": "markdown",
   "metadata": {
    "papermill": {
     "duration": 0.053326,
     "end_time": "2020-11-27T00:18:23.871467",
     "exception": false,
     "start_time": "2020-11-27T00:18:23.818141",
     "status": "completed"
    },
    "tags": []
   },
   "source": [
    "____\n",
    "> Now let's move on to creating  heatmaps with seaborn and our data. We'll first need to restructure the dataframe so that the columns become the Hours and the Index becomes the Day of the Week. There are lots of ways to do this, but I would recommend trying to combine groupby with an [unstack](http://pandas.pydata.org/pandas-docs/stable/generated/pandas.DataFrame.unstack.html) method. Reference the solutions if you get stuck on this!\n"
   ]
  },
  {
   "cell_type": "code",
   "execution_count": 23,
   "metadata": {
    "execution": {
     "iopub.execute_input": "2020-11-27T00:18:23.990505Z",
     "iopub.status.busy": "2020-11-27T00:18:23.988430Z",
     "iopub.status.idle": "2020-11-27T00:18:24.645901Z",
     "shell.execute_reply": "2020-11-27T00:18:24.645206Z"
    },
    "papermill": {
     "duration": 0.721838,
     "end_time": "2020-11-27T00:18:24.646084",
     "exception": false,
     "start_time": "2020-11-27T00:18:23.924246",
     "status": "completed"
    },
    "tags": []
   },
   "outputs": [
    {
     "data": {
      "text/html": [
       "<div>\n",
       "<style scoped>\n",
       "    .dataframe tbody tr th:only-of-type {\n",
       "        vertical-align: middle;\n",
       "    }\n",
       "\n",
       "    .dataframe tbody tr th {\n",
       "        vertical-align: top;\n",
       "    }\n",
       "\n",
       "    .dataframe thead th {\n",
       "        text-align: right;\n",
       "    }\n",
       "</style>\n",
       "<table border=\"1\" class=\"dataframe\">\n",
       "  <thead>\n",
       "    <tr style=\"text-align: right;\">\n",
       "      <th>Hour</th>\n",
       "      <th>0</th>\n",
       "      <th>1</th>\n",
       "      <th>2</th>\n",
       "      <th>3</th>\n",
       "      <th>4</th>\n",
       "      <th>5</th>\n",
       "      <th>6</th>\n",
       "      <th>7</th>\n",
       "      <th>8</th>\n",
       "      <th>9</th>\n",
       "      <th>...</th>\n",
       "      <th>14</th>\n",
       "      <th>15</th>\n",
       "      <th>16</th>\n",
       "      <th>17</th>\n",
       "      <th>18</th>\n",
       "      <th>19</th>\n",
       "      <th>20</th>\n",
       "      <th>21</th>\n",
       "      <th>22</th>\n",
       "      <th>23</th>\n",
       "    </tr>\n",
       "    <tr>\n",
       "      <th>Day of Week</th>\n",
       "      <th></th>\n",
       "      <th></th>\n",
       "      <th></th>\n",
       "      <th></th>\n",
       "      <th></th>\n",
       "      <th></th>\n",
       "      <th></th>\n",
       "      <th></th>\n",
       "      <th></th>\n",
       "      <th></th>\n",
       "      <th></th>\n",
       "      <th></th>\n",
       "      <th></th>\n",
       "      <th></th>\n",
       "      <th></th>\n",
       "      <th></th>\n",
       "      <th></th>\n",
       "      <th></th>\n",
       "      <th></th>\n",
       "      <th></th>\n",
       "      <th></th>\n",
       "    </tr>\n",
       "  </thead>\n",
       "  <tbody>\n",
       "    <tr>\n",
       "      <th>Fri</th>\n",
       "      <td>1983</td>\n",
       "      <td>1635</td>\n",
       "      <td>1449</td>\n",
       "      <td>1296</td>\n",
       "      <td>1339</td>\n",
       "      <td>1639</td>\n",
       "      <td>2670</td>\n",
       "      <td>4143</td>\n",
       "      <td>5018</td>\n",
       "      <td>5288</td>\n",
       "      <td>...</td>\n",
       "      <td>6394</td>\n",
       "      <td>7040</td>\n",
       "      <td>7065</td>\n",
       "      <td>7113</td>\n",
       "      <td>5668</td>\n",
       "      <td>5056</td>\n",
       "      <td>4375</td>\n",
       "      <td>3913</td>\n",
       "      <td>3422</td>\n",
       "      <td>2834</td>\n",
       "    </tr>\n",
       "    <tr>\n",
       "      <th>Mon</th>\n",
       "      <td>1894</td>\n",
       "      <td>1571</td>\n",
       "      <td>1368</td>\n",
       "      <td>1272</td>\n",
       "      <td>1336</td>\n",
       "      <td>1844</td>\n",
       "      <td>2675</td>\n",
       "      <td>4430</td>\n",
       "      <td>5504</td>\n",
       "      <td>5724</td>\n",
       "      <td>...</td>\n",
       "      <td>5713</td>\n",
       "      <td>6289</td>\n",
       "      <td>6346</td>\n",
       "      <td>6408</td>\n",
       "      <td>5441</td>\n",
       "      <td>4488</td>\n",
       "      <td>3823</td>\n",
       "      <td>3254</td>\n",
       "      <td>2658</td>\n",
       "      <td>2072</td>\n",
       "    </tr>\n",
       "    <tr>\n",
       "      <th>Sat</th>\n",
       "      <td>2447</td>\n",
       "      <td>2059</td>\n",
       "      <td>1883</td>\n",
       "      <td>1592</td>\n",
       "      <td>1451</td>\n",
       "      <td>1580</td>\n",
       "      <td>1880</td>\n",
       "      <td>2489</td>\n",
       "      <td>3457</td>\n",
       "      <td>4315</td>\n",
       "      <td>...</td>\n",
       "      <td>5421</td>\n",
       "      <td>5181</td>\n",
       "      <td>5211</td>\n",
       "      <td>5213</td>\n",
       "      <td>4980</td>\n",
       "      <td>4753</td>\n",
       "      <td>4127</td>\n",
       "      <td>3895</td>\n",
       "      <td>3226</td>\n",
       "      <td>2965</td>\n",
       "    </tr>\n",
       "    <tr>\n",
       "      <th>Sun</th>\n",
       "      <td>2424</td>\n",
       "      <td>2135</td>\n",
       "      <td>1946</td>\n",
       "      <td>1614</td>\n",
       "      <td>1471</td>\n",
       "      <td>1488</td>\n",
       "      <td>1726</td>\n",
       "      <td>2408</td>\n",
       "      <td>3001</td>\n",
       "      <td>3728</td>\n",
       "      <td>...</td>\n",
       "      <td>4744</td>\n",
       "      <td>4475</td>\n",
       "      <td>4560</td>\n",
       "      <td>4505</td>\n",
       "      <td>4402</td>\n",
       "      <td>4135</td>\n",
       "      <td>3748</td>\n",
       "      <td>3161</td>\n",
       "      <td>2629</td>\n",
       "      <td>2323</td>\n",
       "    </tr>\n",
       "    <tr>\n",
       "      <th>Thu</th>\n",
       "      <td>1731</td>\n",
       "      <td>1408</td>\n",
       "      <td>1426</td>\n",
       "      <td>1236</td>\n",
       "      <td>1293</td>\n",
       "      <td>1775</td>\n",
       "      <td>2816</td>\n",
       "      <td>4432</td>\n",
       "      <td>5297</td>\n",
       "      <td>5412</td>\n",
       "      <td>...</td>\n",
       "      <td>6079</td>\n",
       "      <td>6493</td>\n",
       "      <td>6375</td>\n",
       "      <td>6935</td>\n",
       "      <td>5512</td>\n",
       "      <td>4703</td>\n",
       "      <td>4045</td>\n",
       "      <td>3490</td>\n",
       "      <td>2844</td>\n",
       "      <td>2354</td>\n",
       "    </tr>\n",
       "  </tbody>\n",
       "</table>\n",
       "<p>5 rows × 24 columns</p>\n",
       "</div>"
      ],
      "text/plain": [
       "Hour           0     1     2     3     4     5     6     7     8     9   ...  \\\n",
       "Day of Week                                                              ...   \n",
       "Fri          1983  1635  1449  1296  1339  1639  2670  4143  5018  5288  ...   \n",
       "Mon          1894  1571  1368  1272  1336  1844  2675  4430  5504  5724  ...   \n",
       "Sat          2447  2059  1883  1592  1451  1580  1880  2489  3457  4315  ...   \n",
       "Sun          2424  2135  1946  1614  1471  1488  1726  2408  3001  3728  ...   \n",
       "Thu          1731  1408  1426  1236  1293  1775  2816  4432  5297  5412  ...   \n",
       "\n",
       "Hour           14    15    16    17    18    19    20    21    22    23  \n",
       "Day of Week                                                              \n",
       "Fri          6394  7040  7065  7113  5668  5056  4375  3913  3422  2834  \n",
       "Mon          5713  6289  6346  6408  5441  4488  3823  3254  2658  2072  \n",
       "Sat          5421  5181  5211  5213  4980  4753  4127  3895  3226  2965  \n",
       "Sun          4744  4475  4560  4505  4402  4135  3748  3161  2629  2323  \n",
       "Thu          6079  6493  6375  6935  5512  4703  4045  3490  2844  2354  \n",
       "\n",
       "[5 rows x 24 columns]"
      ]
     },
     "execution_count": 23,
     "metadata": {},
     "output_type": "execute_result"
    }
   ],
   "source": [
    "dayHour = df.groupby(by=['Day of Week','Hour']).count()['Reason'].unstack()\n",
    "dayHour.head()"
   ]
  },
  {
   "cell_type": "markdown",
   "metadata": {
    "papermill": {
     "duration": 0.05327,
     "end_time": "2020-11-27T00:18:24.753232",
     "exception": false,
     "start_time": "2020-11-27T00:18:24.699962",
     "status": "completed"
    },
    "tags": []
   },
   "source": [
    "Now create a HeatMap using this new DataFrame."
   ]
  },
  {
   "cell_type": "code",
   "execution_count": 24,
   "metadata": {
    "execution": {
     "iopub.execute_input": "2020-11-27T00:18:24.876496Z",
     "iopub.status.busy": "2020-11-27T00:18:24.875326Z",
     "iopub.status.idle": "2020-11-27T00:18:25.380993Z",
     "shell.execute_reply": "2020-11-27T00:18:25.380087Z"
    },
    "papermill": {
     "duration": 0.574121,
     "end_time": "2020-11-27T00:18:25.381142",
     "exception": false,
     "start_time": "2020-11-27T00:18:24.807021",
     "status": "completed"
    },
    "tags": []
   },
   "outputs": [
    {
     "data": {
      "text/plain": [
       "<matplotlib.axes._subplots.AxesSubplot at 0x7f8f46d871d0>"
      ]
     },
     "execution_count": 24,
     "metadata": {},
     "output_type": "execute_result"
    },
    {
     "data": {
      "image/png": "[encoded data removed]",
      "text/plain": [
       "<Figure size 864x432 with 2 Axes>"
      ]
     },
     "metadata": {
      "needs_background": "light"
     },
     "output_type": "display_data"
    }
   ],
   "source": [
    "plt.figure(figsize=(12,6))\n",
    "sns.heatmap(dayHour,cmap='viridis')"
   ]
  },
  {
   "cell_type": "markdown",
   "metadata": {
    "papermill": {
     "duration": 0.055077,
     "end_time": "2020-11-27T00:18:25.492364",
     "exception": false,
     "start_time": "2020-11-27T00:18:25.437287",
     "status": "completed"
    },
    "tags": []
   },
   "source": [
    "Now create a clustermap using this DataFrame."
   ]
  },
  {
   "cell_type": "code",
   "execution_count": 25,
   "metadata": {
    "execution": {
     "iopub.execute_input": "2020-11-27T00:18:25.619778Z",
     "iopub.status.busy": "2020-11-27T00:18:25.618661Z",
     "iopub.status.idle": "2020-11-27T00:18:26.525236Z",
     "shell.execute_reply": "2020-11-27T00:18:26.524400Z"
    },
    "papermill": {
     "duration": 0.976663,
     "end_time": "2020-11-27T00:18:26.525372",
     "exception": false,
     "start_time": "2020-11-27T00:18:25.548709",
     "status": "completed"
    },
    "tags": []
   },
   "outputs": [
    {
     "data": {
      "text/plain": [
       "<seaborn.matrix.ClusterGrid at 0x7f8f46cd5410>"
      ]
     },
     "execution_count": 25,
     "metadata": {},
     "output_type": "execute_result"
    },
    {
     "data": {
      "image/png": "[encoded data removed]",
      "text/plain": [
       "<Figure size 720x720 with 4 Axes>"
      ]
     },
     "metadata": {
      "needs_background": "light"
     },
     "output_type": "display_data"
    }
   ],
   "source": [
    "sns.clustermap(dayHour,cmap='viridis')"
   ]
  },
  {
   "cell_type": "markdown",
   "metadata": {
    "papermill": {
     "duration": 0.058363,
     "end_time": "2020-11-27T00:18:26.640619",
     "exception": false,
     "start_time": "2020-11-27T00:18:26.582256",
     "status": "completed"
    },
    "tags": []
   },
   "source": [
    "Now repeat these same plots and operations, for a DataFrame that shows the Month as the column."
   ]
  },
  {
   "cell_type": "code",
   "execution_count": 26,
   "metadata": {
    "execution": {
     "iopub.execute_input": "2020-11-27T00:18:26.836263Z",
     "iopub.status.busy": "2020-11-27T00:18:26.786192Z",
     "iopub.status.idle": "2020-11-27T00:18:28.514618Z",
     "shell.execute_reply": "2020-11-27T00:18:28.513851Z"
    },
    "papermill": {
     "duration": 1.816657,
     "end_time": "2020-11-27T00:18:28.514765",
     "exception": false,
     "start_time": "2020-11-27T00:18:26.698108",
     "status": "completed"
    },
    "tags": []
   },
   "outputs": [
    {
     "data": {
      "text/plain": [
       "<seaborn.matrix.ClusterGrid at 0x7f8f46b08190>"
      ]
     },
     "execution_count": 26,
     "metadata": {},
     "output_type": "execute_result"
    },
    {
     "data": {
      "image/png": "[encoded data removed]",
      "text/plain": [
       "<Figure size 864x432 with 2 Axes>"
      ]
     },
     "metadata": {
      "needs_background": "light"
     },
     "output_type": "display_data"
    },
    {
     "data": {
      "image/png": "[encoded data removed]",
      "text/plain": [
       "<Figure size 720x720 with 4 Axes>"
      ]
     },
     "metadata": {
      "needs_background": "light"
     },
     "output_type": "display_data"
    }
   ],
   "source": [
    "dayMonth = df.groupby(by=['Day of Week','Month']).count()['Reason'].unstack()\n",
    "dayMonth.head()\n",
    "\n",
    "plt.figure(figsize=(12,6))\n",
    "sns.heatmap(dayMonth,cmap='viridis')\n",
    "\n",
    "sns.clustermap(dayMonth,cmap='viridis')"
   ]
  }
 ],
 "metadata": {
  "kernelspec": {
   "display_name": "Python 3",
   "language": "python",
   "name": "python3"
  },
  "language_info": {
   "codemirror_mode": {
    "name": "ipython",
    "version": 3
   },
   "file_extension": ".py",
   "mimetype": "text/x-python",
   "name": "python",
   "nbconvert_exporter": "python",
   "pygments_lexer": "ipython3",
   "version": "3.7.6"
  },
  "papermill": {
   "duration": 50.208532,
   "end_time": "2020-11-27T00:18:29.617520",
   "environment_variables": {},
   "exception": null,
   "input_path": "__notebook__.ipynb",
   "output_path": "__notebook__.ipynb",
   "parameters": {},
   "start_time": "2020-11-27T00:17:39.408988",
   "version": "2.1.0"
  }
 },
 "nbformat": 4,
 "nbformat_minor": 4
}
